{
  "nbformat": 4,
  "nbformat_minor": 0,
  "metadata": {
    "colab": {
      "provenance": [],
      "authorship_tag": "ABX9TyP+IlNV5h9HR+M1UI510LMK",
      "include_colab_link": true
    },
    "kernelspec": {
      "name": "python3",
      "display_name": "Python 3"
    },
    "language_info": {
      "name": "python"
    }
  },
  "cells": [
    {
      "cell_type": "markdown",
      "metadata": {
        "id": "view-in-github",
        "colab_type": "text"
      },
      "source": [
        "<a href=\"https://colab.research.google.com/github/Meena-30/Assignment1/blob/main/assignment2_hqamoye.ipynb\" target=\"_parent\"><img src=\"https://colab.research.google.com/assets/colab-badge.svg\" alt=\"Open In Colab\"/></a>"
      ]
    },
    {
      "cell_type": "code",
      "execution_count": 1,
      "metadata": {
        "id": "a0wMni8dOwFU"
      },
      "outputs": [],
      "source": [
        "import pandas as pd"
      ]
    },
    {
      "cell_type": "code",
      "source": [
        "import numpy as np"
      ],
      "metadata": {
        "id": "BH1eJooYbZ4J"
      },
      "execution_count": 44,
      "outputs": []
    },
    {
      "cell_type": "code",
      "source": [
        "df=pd.read_csv('/content/energydata_complete.csv',encoding=\"latin-1\")"
      ],
      "metadata": {
        "id": "a1NCJL5CO2s5"
      },
      "execution_count": 6,
      "outputs": []
    },
    {
      "cell_type": "code",
      "source": [
        "df.shape"
      ],
      "metadata": {
        "colab": {
          "base_uri": "https://localhost:8080/"
        },
        "id": "RynysHrNP4BX",
        "outputId": "39e7a76b-8c84-453f-aeaa-389a89e5e8d7"
      },
      "execution_count": 7,
      "outputs": [
        {
          "output_type": "execute_result",
          "data": {
            "text/plain": [
              "(19735, 29)"
            ]
          },
          "metadata": {},
          "execution_count": 7
        }
      ]
    },
    {
      "cell_type": "code",
      "source": [
        "df.size"
      ],
      "metadata": {
        "colab": {
          "base_uri": "https://localhost:8080/"
        },
        "id": "fB74ycclP8Lm",
        "outputId": "94a3a220-441d-4ccb-936f-1531a7416980"
      },
      "execution_count": 8,
      "outputs": [
        {
          "output_type": "execute_result",
          "data": {
            "text/plain": [
              "572315"
            ]
          },
          "metadata": {},
          "execution_count": 8
        }
      ]
    },
    {
      "cell_type": "code",
      "source": [
        "df.info()"
      ],
      "metadata": {
        "colab": {
          "base_uri": "https://localhost:8080/"
        },
        "id": "vZsT3jWVP-zP",
        "outputId": "71efdc2c-ba54-4d46-fd95-96b7a5c506b2"
      },
      "execution_count": 9,
      "outputs": [
        {
          "output_type": "stream",
          "name": "stdout",
          "text": [
            "<class 'pandas.core.frame.DataFrame'>\n",
            "RangeIndex: 19735 entries, 0 to 19734\n",
            "Data columns (total 29 columns):\n",
            " #   Column       Non-Null Count  Dtype  \n",
            "---  ------       --------------  -----  \n",
            " 0   date         19735 non-null  object \n",
            " 1   Appliances   19735 non-null  int64  \n",
            " 2   lights       19735 non-null  int64  \n",
            " 3   T1           19735 non-null  float64\n",
            " 4   RH_1         19735 non-null  float64\n",
            " 5   T2           19735 non-null  float64\n",
            " 6   RH_2         19735 non-null  float64\n",
            " 7   T3           19735 non-null  float64\n",
            " 8   RH_3         19735 non-null  float64\n",
            " 9   T4           19735 non-null  float64\n",
            " 10  RH_4         19735 non-null  float64\n",
            " 11  T5           19735 non-null  float64\n",
            " 12  RH_5         19735 non-null  float64\n",
            " 13  T6           19735 non-null  float64\n",
            " 14  RH_6         19735 non-null  float64\n",
            " 15  T7           19735 non-null  float64\n",
            " 16  RH_7         19735 non-null  float64\n",
            " 17  T8           19735 non-null  float64\n",
            " 18  RH_8         19735 non-null  float64\n",
            " 19  T9           19735 non-null  float64\n",
            " 20  RH_9         19735 non-null  float64\n",
            " 21  T_out        19735 non-null  float64\n",
            " 22  Press_mm_hg  19735 non-null  float64\n",
            " 23  RH_out       19735 non-null  float64\n",
            " 24  Windspeed    19735 non-null  float64\n",
            " 25  Visibility   19735 non-null  float64\n",
            " 26  Tdewpoint    19735 non-null  float64\n",
            " 27  rv1          19735 non-null  float64\n",
            " 28  rv2          19735 non-null  float64\n",
            "dtypes: float64(26), int64(2), object(1)\n",
            "memory usage: 4.4+ MB\n"
          ]
        }
      ]
    },
    {
      "cell_type": "code",
      "source": [
        "df.head()"
      ],
      "metadata": {
        "colab": {
          "base_uri": "https://localhost:8080/",
          "height": 473
        },
        "id": "gVhHXDQtQECH",
        "outputId": "8770355a-bb42-4668-ef05-231f60ed3884"
      },
      "execution_count": 10,
      "outputs": [
        {
          "output_type": "execute_result",
          "data": {
            "text/plain": [
              "                  date  Appliances  lights     T1       RH_1    T2       RH_2  \\\n",
              "0  2016-01-11 17:00:00          60      30  19.89  47.596667  19.2  44.790000   \n",
              "1  2016-01-11 17:10:00          60      30  19.89  46.693333  19.2  44.722500   \n",
              "2  2016-01-11 17:20:00          50      30  19.89  46.300000  19.2  44.626667   \n",
              "3  2016-01-11 17:30:00          50      40  19.89  46.066667  19.2  44.590000   \n",
              "4  2016-01-11 17:40:00          60      40  19.89  46.333333  19.2  44.530000   \n",
              "\n",
              "      T3       RH_3         T4  ...         T9   RH_9     T_out  Press_mm_hg  \\\n",
              "0  19.79  44.730000  19.000000  ...  17.033333  45.53  6.600000        733.5   \n",
              "1  19.79  44.790000  19.000000  ...  17.066667  45.56  6.483333        733.6   \n",
              "2  19.79  44.933333  18.926667  ...  17.000000  45.50  6.366667        733.7   \n",
              "3  19.79  45.000000  18.890000  ...  17.000000  45.40  6.250000        733.8   \n",
              "4  19.79  45.000000  18.890000  ...  17.000000  45.40  6.133333        733.9   \n",
              "\n",
              "   RH_out  Windspeed  Visibility  Tdewpoint        rv1        rv2  \n",
              "0    92.0   7.000000   63.000000        5.3  13.275433  13.275433  \n",
              "1    92.0   6.666667   59.166667        5.2  18.606195  18.606195  \n",
              "2    92.0   6.333333   55.333333        5.1  28.642668  28.642668  \n",
              "3    92.0   6.000000   51.500000        5.0  45.410389  45.410389  \n",
              "4    92.0   5.666667   47.666667        4.9  10.084097  10.084097  \n",
              "\n",
              "[5 rows x 29 columns]"
            ],
            "text/html": [
              "\n",
              "  <div id=\"df-3cdbd958-6af6-4151-9254-773fda838f33\">\n",
              "    <div class=\"colab-df-container\">\n",
              "      <div>\n",
              "<style scoped>\n",
              "    .dataframe tbody tr th:only-of-type {\n",
              "        vertical-align: middle;\n",
              "    }\n",
              "\n",
              "    .dataframe tbody tr th {\n",
              "        vertical-align: top;\n",
              "    }\n",
              "\n",
              "    .dataframe thead th {\n",
              "        text-align: right;\n",
              "    }\n",
              "</style>\n",
              "<table border=\"1\" class=\"dataframe\">\n",
              "  <thead>\n",
              "    <tr style=\"text-align: right;\">\n",
              "      <th></th>\n",
              "      <th>date</th>\n",
              "      <th>Appliances</th>\n",
              "      <th>lights</th>\n",
              "      <th>T1</th>\n",
              "      <th>RH_1</th>\n",
              "      <th>T2</th>\n",
              "      <th>RH_2</th>\n",
              "      <th>T3</th>\n",
              "      <th>RH_3</th>\n",
              "      <th>T4</th>\n",
              "      <th>...</th>\n",
              "      <th>T9</th>\n",
              "      <th>RH_9</th>\n",
              "      <th>T_out</th>\n",
              "      <th>Press_mm_hg</th>\n",
              "      <th>RH_out</th>\n",
              "      <th>Windspeed</th>\n",
              "      <th>Visibility</th>\n",
              "      <th>Tdewpoint</th>\n",
              "      <th>rv1</th>\n",
              "      <th>rv2</th>\n",
              "    </tr>\n",
              "  </thead>\n",
              "  <tbody>\n",
              "    <tr>\n",
              "      <th>0</th>\n",
              "      <td>2016-01-11 17:00:00</td>\n",
              "      <td>60</td>\n",
              "      <td>30</td>\n",
              "      <td>19.89</td>\n",
              "      <td>47.596667</td>\n",
              "      <td>19.2</td>\n",
              "      <td>44.790000</td>\n",
              "      <td>19.79</td>\n",
              "      <td>44.730000</td>\n",
              "      <td>19.000000</td>\n",
              "      <td>...</td>\n",
              "      <td>17.033333</td>\n",
              "      <td>45.53</td>\n",
              "      <td>6.600000</td>\n",
              "      <td>733.5</td>\n",
              "      <td>92.0</td>\n",
              "      <td>7.000000</td>\n",
              "      <td>63.000000</td>\n",
              "      <td>5.3</td>\n",
              "      <td>13.275433</td>\n",
              "      <td>13.275433</td>\n",
              "    </tr>\n",
              "    <tr>\n",
              "      <th>1</th>\n",
              "      <td>2016-01-11 17:10:00</td>\n",
              "      <td>60</td>\n",
              "      <td>30</td>\n",
              "      <td>19.89</td>\n",
              "      <td>46.693333</td>\n",
              "      <td>19.2</td>\n",
              "      <td>44.722500</td>\n",
              "      <td>19.79</td>\n",
              "      <td>44.790000</td>\n",
              "      <td>19.000000</td>\n",
              "      <td>...</td>\n",
              "      <td>17.066667</td>\n",
              "      <td>45.56</td>\n",
              "      <td>6.483333</td>\n",
              "      <td>733.6</td>\n",
              "      <td>92.0</td>\n",
              "      <td>6.666667</td>\n",
              "      <td>59.166667</td>\n",
              "      <td>5.2</td>\n",
              "      <td>18.606195</td>\n",
              "      <td>18.606195</td>\n",
              "    </tr>\n",
              "    <tr>\n",
              "      <th>2</th>\n",
              "      <td>2016-01-11 17:20:00</td>\n",
              "      <td>50</td>\n",
              "      <td>30</td>\n",
              "      <td>19.89</td>\n",
              "      <td>46.300000</td>\n",
              "      <td>19.2</td>\n",
              "      <td>44.626667</td>\n",
              "      <td>19.79</td>\n",
              "      <td>44.933333</td>\n",
              "      <td>18.926667</td>\n",
              "      <td>...</td>\n",
              "      <td>17.000000</td>\n",
              "      <td>45.50</td>\n",
              "      <td>6.366667</td>\n",
              "      <td>733.7</td>\n",
              "      <td>92.0</td>\n",
              "      <td>6.333333</td>\n",
              "      <td>55.333333</td>\n",
              "      <td>5.1</td>\n",
              "      <td>28.642668</td>\n",
              "      <td>28.642668</td>\n",
              "    </tr>\n",
              "    <tr>\n",
              "      <th>3</th>\n",
              "      <td>2016-01-11 17:30:00</td>\n",
              "      <td>50</td>\n",
              "      <td>40</td>\n",
              "      <td>19.89</td>\n",
              "      <td>46.066667</td>\n",
              "      <td>19.2</td>\n",
              "      <td>44.590000</td>\n",
              "      <td>19.79</td>\n",
              "      <td>45.000000</td>\n",
              "      <td>18.890000</td>\n",
              "      <td>...</td>\n",
              "      <td>17.000000</td>\n",
              "      <td>45.40</td>\n",
              "      <td>6.250000</td>\n",
              "      <td>733.8</td>\n",
              "      <td>92.0</td>\n",
              "      <td>6.000000</td>\n",
              "      <td>51.500000</td>\n",
              "      <td>5.0</td>\n",
              "      <td>45.410389</td>\n",
              "      <td>45.410389</td>\n",
              "    </tr>\n",
              "    <tr>\n",
              "      <th>4</th>\n",
              "      <td>2016-01-11 17:40:00</td>\n",
              "      <td>60</td>\n",
              "      <td>40</td>\n",
              "      <td>19.89</td>\n",
              "      <td>46.333333</td>\n",
              "      <td>19.2</td>\n",
              "      <td>44.530000</td>\n",
              "      <td>19.79</td>\n",
              "      <td>45.000000</td>\n",
              "      <td>18.890000</td>\n",
              "      <td>...</td>\n",
              "      <td>17.000000</td>\n",
              "      <td>45.40</td>\n",
              "      <td>6.133333</td>\n",
              "      <td>733.9</td>\n",
              "      <td>92.0</td>\n",
              "      <td>5.666667</td>\n",
              "      <td>47.666667</td>\n",
              "      <td>4.9</td>\n",
              "      <td>10.084097</td>\n",
              "      <td>10.084097</td>\n",
              "    </tr>\n",
              "  </tbody>\n",
              "</table>\n",
              "<p>5 rows × 29 columns</p>\n",
              "</div>\n",
              "      <button class=\"colab-df-convert\" onclick=\"convertToInteractive('df-3cdbd958-6af6-4151-9254-773fda838f33')\"\n",
              "              title=\"Convert this dataframe to an interactive table.\"\n",
              "              style=\"display:none;\">\n",
              "        \n",
              "  <svg xmlns=\"http://www.w3.org/2000/svg\" height=\"24px\"viewBox=\"0 0 24 24\"\n",
              "       width=\"24px\">\n",
              "    <path d=\"M0 0h24v24H0V0z\" fill=\"none\"/>\n",
              "    <path d=\"M18.56 5.44l.94 2.06.94-2.06 2.06-.94-2.06-.94-.94-2.06-.94 2.06-2.06.94zm-11 1L8.5 8.5l.94-2.06 2.06-.94-2.06-.94L8.5 2.5l-.94 2.06-2.06.94zm10 10l.94 2.06.94-2.06 2.06-.94-2.06-.94-.94-2.06-.94 2.06-2.06.94z\"/><path d=\"M17.41 7.96l-1.37-1.37c-.4-.4-.92-.59-1.43-.59-.52 0-1.04.2-1.43.59L10.3 9.45l-7.72 7.72c-.78.78-.78 2.05 0 2.83L4 21.41c.39.39.9.59 1.41.59.51 0 1.02-.2 1.41-.59l7.78-7.78 2.81-2.81c.8-.78.8-2.07 0-2.86zM5.41 20L4 18.59l7.72-7.72 1.47 1.35L5.41 20z\"/>\n",
              "  </svg>\n",
              "      </button>\n",
              "      \n",
              "  <style>\n",
              "    .colab-df-container {\n",
              "      display:flex;\n",
              "      flex-wrap:wrap;\n",
              "      gap: 12px;\n",
              "    }\n",
              "\n",
              "    .colab-df-convert {\n",
              "      background-color: #E8F0FE;\n",
              "      border: none;\n",
              "      border-radius: 50%;\n",
              "      cursor: pointer;\n",
              "      display: none;\n",
              "      fill: #1967D2;\n",
              "      height: 32px;\n",
              "      padding: 0 0 0 0;\n",
              "      width: 32px;\n",
              "    }\n",
              "\n",
              "    .colab-df-convert:hover {\n",
              "      background-color: #E2EBFA;\n",
              "      box-shadow: 0px 1px 2px rgba(60, 64, 67, 0.3), 0px 1px 3px 1px rgba(60, 64, 67, 0.15);\n",
              "      fill: #174EA6;\n",
              "    }\n",
              "\n",
              "    [theme=dark] .colab-df-convert {\n",
              "      background-color: #3B4455;\n",
              "      fill: #D2E3FC;\n",
              "    }\n",
              "\n",
              "    [theme=dark] .colab-df-convert:hover {\n",
              "      background-color: #434B5C;\n",
              "      box-shadow: 0px 1px 3px 1px rgba(0, 0, 0, 0.15);\n",
              "      filter: drop-shadow(0px 1px 2px rgba(0, 0, 0, 0.3));\n",
              "      fill: #FFFFFF;\n",
              "    }\n",
              "  </style>\n",
              "\n",
              "      <script>\n",
              "        const buttonEl =\n",
              "          document.querySelector('#df-3cdbd958-6af6-4151-9254-773fda838f33 button.colab-df-convert');\n",
              "        buttonEl.style.display =\n",
              "          google.colab.kernel.accessAllowed ? 'block' : 'none';\n",
              "\n",
              "        async function convertToInteractive(key) {\n",
              "          const element = document.querySelector('#df-3cdbd958-6af6-4151-9254-773fda838f33');\n",
              "          const dataTable =\n",
              "            await google.colab.kernel.invokeFunction('convertToInteractive',\n",
              "                                                     [key], {});\n",
              "          if (!dataTable) return;\n",
              "\n",
              "          const docLinkHtml = 'Like what you see? Visit the ' +\n",
              "            '<a target=\"_blank\" href=https://colab.research.google.com/notebooks/data_table.ipynb>data table notebook</a>'\n",
              "            + ' to learn more about interactive tables.';\n",
              "          element.innerHTML = '';\n",
              "          dataTable['output_type'] = 'display_data';\n",
              "          await google.colab.output.renderOutput(dataTable, element);\n",
              "          const docLink = document.createElement('div');\n",
              "          docLink.innerHTML = docLinkHtml;\n",
              "          element.appendChild(docLink);\n",
              "        }\n",
              "      </script>\n",
              "    </div>\n",
              "  </div>\n",
              "  "
            ]
          },
          "metadata": {},
          "execution_count": 10
        }
      ]
    },
    {
      "cell_type": "code",
      "source": [
        "X=df[['T2']]\n",
        "y=df['T6']"
      ],
      "metadata": {
        "id": "8gDAo7J8R9Zy"
      },
      "execution_count": null,
      "outputs": []
    },
    {
      "cell_type": "code",
      "source": [
        "df.columns"
      ],
      "metadata": {
        "colab": {
          "base_uri": "https://localhost:8080/"
        },
        "id": "L9fYW9zjTAmS",
        "outputId": "da67497b-e024-4a99-fa7a-778717f948fb"
      },
      "execution_count": 22,
      "outputs": [
        {
          "output_type": "execute_result",
          "data": {
            "text/plain": [
              "Index(['date', 'Appliances', 'lights', 'T1', 'RH_1', 'T2', 'RH_2', 'T3',\n",
              "       'RH_3', 'T4', 'RH_4', 'T5', 'RH_5', 'T6', 'RH_6', 'T7', 'RH_7', 'T8',\n",
              "       'RH_8', 'T9', 'RH_9', 'T_out', 'Press_mm_hg', 'RH_out', 'Windspeed',\n",
              "       'Visibility', 'Tdewpoint', 'rv1', 'rv2'],\n",
              "      dtype='object')"
            ]
          },
          "metadata": {},
          "execution_count": 22
        }
      ]
    },
    {
      "cell_type": "code",
      "source": [
        "X"
      ],
      "metadata": {
        "id": "SuU6VobMUVEd"
      },
      "execution_count": null,
      "outputs": []
    },
    {
      "cell_type": "code",
      "source": [
        "from sklearn.preprocessing import MinMaxScaler\n",
        "scale1=MinMaxScaler()\n"
      ],
      "metadata": {
        "id": "NjvAtrXkUZ9N"
      },
      "execution_count": 47,
      "outputs": []
    },
    {
      "cell_type": "code",
      "source": [
        "scaled_data1=scale1.fit_transform(df[['T1','Appliances','RH_1', 'T2', 'RH_2', 'T3',\n",
        "       'RH_3', 'T4', 'RH_4', 'T5', 'RH_5', 'T6', 'RH_6', 'T7', 'RH_7', 'T8',\n",
        "       'RH_8', 'T9', 'RH_9', 'T_out', 'Press_mm_hg', 'RH_out', 'Windspeed',\n",
        "       'Visibility', 'Tdewpoint', 'rv1', 'rv2']])"
      ],
      "metadata": {
        "id": "uDK_Ek9BWwyy"
      },
      "execution_count": 48,
      "outputs": []
    },
    {
      "cell_type": "code",
      "source": [
        "df=pd.DataFrame(scaled_data1)"
      ],
      "metadata": {
        "id": "5He4P75DbzSB"
      },
      "execution_count": 51,
      "outputs": []
    },
    {
      "cell_type": "code",
      "source": [
        "df.columns=['T1','Appliances','RH_1', 'T2', 'RH_2', 'T3',\n",
        "       'RH_3', 'T4', 'RH_4', 'T5', 'RH_5', 'T6', 'RH_6', 'T7', 'RH_7', 'T8',\n",
        "       'RH_8', 'T9', 'RH_9', 'T_out', 'Press_mm_hg', 'RH_out', 'Windspeed',\n",
        "       'Visibility', 'Tdewpoint', 'rv1', 'rv2']"
      ],
      "metadata": {
        "id": "uvrip9S_cCdY"
      },
      "execution_count": 53,
      "outputs": []
    },
    {
      "cell_type": "code",
      "source": [
        "X=df[['T1', 'RH_1', 'T2', 'RH_2', 'T3',\n",
        "       'RH_3', 'T4', 'RH_4', 'T5', 'RH_5', 'T6', 'RH_6', 'T7', 'RH_7', 'T8',\n",
        "       'RH_8', 'T9', 'RH_9', 'T_out', 'Press_mm_hg', 'RH_out', 'Windspeed',\n",
        "       'Visibility', 'Tdewpoint', 'rv1', 'rv2']]\n",
        "y=df['Appliances']"
      ],
      "metadata": {
        "id": "i4aL28_aUDbQ"
      },
      "execution_count": 54,
      "outputs": []
    },
    {
      "cell_type": "code",
      "source": [
        "from sklearn.model_selection import train_test_split\n",
        "X_train,X_test,y_train,y_test=train_test_split(X,y,train_size=0.7,random_state=42)"
      ],
      "metadata": {
        "id": "aeGMdTZ0RgeE"
      },
      "execution_count": 55,
      "outputs": []
    },
    {
      "cell_type": "code",
      "source": [
        "X_train"
      ],
      "metadata": {
        "colab": {
          "base_uri": "https://localhost:8080/",
          "height": 488
        },
        "id": "osA1Gj3iYvy1",
        "outputId": "94cb4b1e-ed86-436f-92d0-8a6148e45243"
      },
      "execution_count": 56,
      "outputs": [
        {
          "output_type": "execute_result",
          "data": {
            "text/plain": [
              "             T1      RH_1        T2      RH_2        T3      RH_3        T4  \\\n",
              "9129   0.493488  0.234933  0.118488  0.568001  0.373878  0.300670  0.470571   \n",
              "2453   0.286167  0.480965  0.181730  0.669978  0.223496  0.735317  0.270270   \n",
              "9152   0.422386  0.230529  0.057427  0.610179  0.373878  0.338059  0.414414   \n",
              "15652  0.360084  0.273645  0.138115  0.532477  0.440346  0.248793  0.396396   \n",
              "16951  0.835269  0.422071  1.000000  0.318493  0.745383  0.459106  0.900901   \n",
              "...         ...       ...       ...       ...       ...       ...       ...   \n",
              "11284  0.518479  0.381892  0.239157  0.638298  0.481888  0.478268  0.569970   \n",
              "11964  0.591341  0.458949  0.428883  0.614959  0.456962  0.585294  0.557658   \n",
              "5390   0.366420  0.238785  0.145384  0.484675  0.235959  0.409846  0.279279   \n",
              "860    0.518479  0.236767  0.311849  0.417940  0.324028  0.381679  0.537538   \n",
              "15795  0.475185  0.290799  0.275503  0.508014  0.456962  0.365633  0.417117   \n",
              "\n",
              "           RH_4        T5      RH_5  ...        T9      RH_9     T_out  \\\n",
              "9129   0.261630  0.408027  0.159157  ...  0.472078  0.379139  0.168274   \n",
              "2453   0.699957  0.178691  0.333576  ...  0.240375  0.700469  0.247588   \n",
              "9152   0.236449  0.378404  0.152641  ...  0.468262  0.410734  0.114148   \n",
              "15652  0.300469  0.315655  0.162565  ...  0.386056  0.274145  0.390139   \n",
              "16951  0.516432  0.748845  0.455819  ...  0.854318  0.633278  0.849946   \n",
              "...         ...       ...       ...  ...       ...       ...       ...   \n",
              "11284  0.515152  0.449435  0.249875  ...  0.568852  0.478615  0.468917   \n",
              "11964  0.719875  0.417582  0.286412  ...  0.561915  0.631898  0.717042   \n",
              "5390   0.325651  0.295406  0.159587  ...  0.312175  0.427704  0.122186   \n",
              "860    0.346991  0.255136  0.244712  ...  0.346861  0.361341  0.217042   \n",
              "15795  0.499502  0.369804  0.192086  ...  0.468262  0.506347  0.379421   \n",
              "\n",
              "       Press_mm_hg    RH_out  Windspeed  Visibility  Tdewpoint       rv1  \\\n",
              "9129      0.861240  0.776316   0.142857    0.984615   0.191554  0.210760   \n",
              "2453      0.837209  0.828947   0.142857    0.600000   0.334842  0.478773   \n",
              "9152      0.853488  0.861842   0.107143    0.915385   0.165158  0.090575   \n",
              "15652     0.590310  0.728070   0.440476    0.600000   0.470588  0.809721   \n",
              "16951     0.530233  0.355263   0.142857    0.600000   0.787330  0.341060   \n",
              "...            ...       ...        ...         ...        ...       ...   \n",
              "11284     0.493798  0.695175   0.488095    0.600000   0.557315  0.354408   \n",
              "11964     0.468605  0.548246   0.142857    0.600000   0.787330  0.003224   \n",
              "5390      0.594186  0.835526   0.250000    0.946154   0.162896  0.476422   \n",
              "860       0.830233  0.559211   0.107143    0.600000   0.119910  0.264561   \n",
              "15795     0.683721  0.798246   0.071429    0.600000   0.494721  0.586533   \n",
              "\n",
              "            rv2  \n",
              "9129   0.210760  \n",
              "2453   0.478773  \n",
              "9152   0.090575  \n",
              "15652  0.809721  \n",
              "16951  0.341060  \n",
              "...         ...  \n",
              "11284  0.354408  \n",
              "11964  0.003224  \n",
              "5390   0.476422  \n",
              "860    0.264561  \n",
              "15795  0.586533  \n",
              "\n",
              "[13813 rows x 26 columns]"
            ],
            "text/html": [
              "\n",
              "  <div id=\"df-7b5be04b-ee18-4f7b-af9d-7b8ab9feb26f\">\n",
              "    <div class=\"colab-df-container\">\n",
              "      <div>\n",
              "<style scoped>\n",
              "    .dataframe tbody tr th:only-of-type {\n",
              "        vertical-align: middle;\n",
              "    }\n",
              "\n",
              "    .dataframe tbody tr th {\n",
              "        vertical-align: top;\n",
              "    }\n",
              "\n",
              "    .dataframe thead th {\n",
              "        text-align: right;\n",
              "    }\n",
              "</style>\n",
              "<table border=\"1\" class=\"dataframe\">\n",
              "  <thead>\n",
              "    <tr style=\"text-align: right;\">\n",
              "      <th></th>\n",
              "      <th>T1</th>\n",
              "      <th>RH_1</th>\n",
              "      <th>T2</th>\n",
              "      <th>RH_2</th>\n",
              "      <th>T3</th>\n",
              "      <th>RH_3</th>\n",
              "      <th>T4</th>\n",
              "      <th>RH_4</th>\n",
              "      <th>T5</th>\n",
              "      <th>RH_5</th>\n",
              "      <th>...</th>\n",
              "      <th>T9</th>\n",
              "      <th>RH_9</th>\n",
              "      <th>T_out</th>\n",
              "      <th>Press_mm_hg</th>\n",
              "      <th>RH_out</th>\n",
              "      <th>Windspeed</th>\n",
              "      <th>Visibility</th>\n",
              "      <th>Tdewpoint</th>\n",
              "      <th>rv1</th>\n",
              "      <th>rv2</th>\n",
              "    </tr>\n",
              "  </thead>\n",
              "  <tbody>\n",
              "    <tr>\n",
              "      <th>9129</th>\n",
              "      <td>0.493488</td>\n",
              "      <td>0.234933</td>\n",
              "      <td>0.118488</td>\n",
              "      <td>0.568001</td>\n",
              "      <td>0.373878</td>\n",
              "      <td>0.300670</td>\n",
              "      <td>0.470571</td>\n",
              "      <td>0.261630</td>\n",
              "      <td>0.408027</td>\n",
              "      <td>0.159157</td>\n",
              "      <td>...</td>\n",
              "      <td>0.472078</td>\n",
              "      <td>0.379139</td>\n",
              "      <td>0.168274</td>\n",
              "      <td>0.861240</td>\n",
              "      <td>0.776316</td>\n",
              "      <td>0.142857</td>\n",
              "      <td>0.984615</td>\n",
              "      <td>0.191554</td>\n",
              "      <td>0.210760</td>\n",
              "      <td>0.210760</td>\n",
              "    </tr>\n",
              "    <tr>\n",
              "      <th>2453</th>\n",
              "      <td>0.286167</td>\n",
              "      <td>0.480965</td>\n",
              "      <td>0.181730</td>\n",
              "      <td>0.669978</td>\n",
              "      <td>0.223496</td>\n",
              "      <td>0.735317</td>\n",
              "      <td>0.270270</td>\n",
              "      <td>0.699957</td>\n",
              "      <td>0.178691</td>\n",
              "      <td>0.333576</td>\n",
              "      <td>...</td>\n",
              "      <td>0.240375</td>\n",
              "      <td>0.700469</td>\n",
              "      <td>0.247588</td>\n",
              "      <td>0.837209</td>\n",
              "      <td>0.828947</td>\n",
              "      <td>0.142857</td>\n",
              "      <td>0.600000</td>\n",
              "      <td>0.334842</td>\n",
              "      <td>0.478773</td>\n",
              "      <td>0.478773</td>\n",
              "    </tr>\n",
              "    <tr>\n",
              "      <th>9152</th>\n",
              "      <td>0.422386</td>\n",
              "      <td>0.230529</td>\n",
              "      <td>0.057427</td>\n",
              "      <td>0.610179</td>\n",
              "      <td>0.373878</td>\n",
              "      <td>0.338059</td>\n",
              "      <td>0.414414</td>\n",
              "      <td>0.236449</td>\n",
              "      <td>0.378404</td>\n",
              "      <td>0.152641</td>\n",
              "      <td>...</td>\n",
              "      <td>0.468262</td>\n",
              "      <td>0.410734</td>\n",
              "      <td>0.114148</td>\n",
              "      <td>0.853488</td>\n",
              "      <td>0.861842</td>\n",
              "      <td>0.107143</td>\n",
              "      <td>0.915385</td>\n",
              "      <td>0.165158</td>\n",
              "      <td>0.090575</td>\n",
              "      <td>0.090575</td>\n",
              "    </tr>\n",
              "    <tr>\n",
              "      <th>15652</th>\n",
              "      <td>0.360084</td>\n",
              "      <td>0.273645</td>\n",
              "      <td>0.138115</td>\n",
              "      <td>0.532477</td>\n",
              "      <td>0.440346</td>\n",
              "      <td>0.248793</td>\n",
              "      <td>0.396396</td>\n",
              "      <td>0.300469</td>\n",
              "      <td>0.315655</td>\n",
              "      <td>0.162565</td>\n",
              "      <td>...</td>\n",
              "      <td>0.386056</td>\n",
              "      <td>0.274145</td>\n",
              "      <td>0.390139</td>\n",
              "      <td>0.590310</td>\n",
              "      <td>0.728070</td>\n",
              "      <td>0.440476</td>\n",
              "      <td>0.600000</td>\n",
              "      <td>0.470588</td>\n",
              "      <td>0.809721</td>\n",
              "      <td>0.809721</td>\n",
              "    </tr>\n",
              "    <tr>\n",
              "      <th>16951</th>\n",
              "      <td>0.835269</td>\n",
              "      <td>0.422071</td>\n",
              "      <td>1.000000</td>\n",
              "      <td>0.318493</td>\n",
              "      <td>0.745383</td>\n",
              "      <td>0.459106</td>\n",
              "      <td>0.900901</td>\n",
              "      <td>0.516432</td>\n",
              "      <td>0.748845</td>\n",
              "      <td>0.455819</td>\n",
              "      <td>...</td>\n",
              "      <td>0.854318</td>\n",
              "      <td>0.633278</td>\n",
              "      <td>0.849946</td>\n",
              "      <td>0.530233</td>\n",
              "      <td>0.355263</td>\n",
              "      <td>0.142857</td>\n",
              "      <td>0.600000</td>\n",
              "      <td>0.787330</td>\n",
              "      <td>0.341060</td>\n",
              "      <td>0.341060</td>\n",
              "    </tr>\n",
              "    <tr>\n",
              "      <th>...</th>\n",
              "      <td>...</td>\n",
              "      <td>...</td>\n",
              "      <td>...</td>\n",
              "      <td>...</td>\n",
              "      <td>...</td>\n",
              "      <td>...</td>\n",
              "      <td>...</td>\n",
              "      <td>...</td>\n",
              "      <td>...</td>\n",
              "      <td>...</td>\n",
              "      <td>...</td>\n",
              "      <td>...</td>\n",
              "      <td>...</td>\n",
              "      <td>...</td>\n",
              "      <td>...</td>\n",
              "      <td>...</td>\n",
              "      <td>...</td>\n",
              "      <td>...</td>\n",
              "      <td>...</td>\n",
              "      <td>...</td>\n",
              "      <td>...</td>\n",
              "    </tr>\n",
              "    <tr>\n",
              "      <th>11284</th>\n",
              "      <td>0.518479</td>\n",
              "      <td>0.381892</td>\n",
              "      <td>0.239157</td>\n",
              "      <td>0.638298</td>\n",
              "      <td>0.481888</td>\n",
              "      <td>0.478268</td>\n",
              "      <td>0.569970</td>\n",
              "      <td>0.515152</td>\n",
              "      <td>0.449435</td>\n",
              "      <td>0.249875</td>\n",
              "      <td>...</td>\n",
              "      <td>0.568852</td>\n",
              "      <td>0.478615</td>\n",
              "      <td>0.468917</td>\n",
              "      <td>0.493798</td>\n",
              "      <td>0.695175</td>\n",
              "      <td>0.488095</td>\n",
              "      <td>0.600000</td>\n",
              "      <td>0.557315</td>\n",
              "      <td>0.354408</td>\n",
              "      <td>0.354408</td>\n",
              "    </tr>\n",
              "    <tr>\n",
              "      <th>11964</th>\n",
              "      <td>0.591341</td>\n",
              "      <td>0.458949</td>\n",
              "      <td>0.428883</td>\n",
              "      <td>0.614959</td>\n",
              "      <td>0.456962</td>\n",
              "      <td>0.585294</td>\n",
              "      <td>0.557658</td>\n",
              "      <td>0.719875</td>\n",
              "      <td>0.417582</td>\n",
              "      <td>0.286412</td>\n",
              "      <td>...</td>\n",
              "      <td>0.561915</td>\n",
              "      <td>0.631898</td>\n",
              "      <td>0.717042</td>\n",
              "      <td>0.468605</td>\n",
              "      <td>0.548246</td>\n",
              "      <td>0.142857</td>\n",
              "      <td>0.600000</td>\n",
              "      <td>0.787330</td>\n",
              "      <td>0.003224</td>\n",
              "      <td>0.003224</td>\n",
              "    </tr>\n",
              "    <tr>\n",
              "      <th>5390</th>\n",
              "      <td>0.366420</td>\n",
              "      <td>0.238785</td>\n",
              "      <td>0.145384</td>\n",
              "      <td>0.484675</td>\n",
              "      <td>0.235959</td>\n",
              "      <td>0.409846</td>\n",
              "      <td>0.279279</td>\n",
              "      <td>0.325651</td>\n",
              "      <td>0.295406</td>\n",
              "      <td>0.159587</td>\n",
              "      <td>...</td>\n",
              "      <td>0.312175</td>\n",
              "      <td>0.427704</td>\n",
              "      <td>0.122186</td>\n",
              "      <td>0.594186</td>\n",
              "      <td>0.835526</td>\n",
              "      <td>0.250000</td>\n",
              "      <td>0.946154</td>\n",
              "      <td>0.162896</td>\n",
              "      <td>0.476422</td>\n",
              "      <td>0.476422</td>\n",
              "    </tr>\n",
              "    <tr>\n",
              "      <th>860</th>\n",
              "      <td>0.518479</td>\n",
              "      <td>0.236767</td>\n",
              "      <td>0.311849</td>\n",
              "      <td>0.417940</td>\n",
              "      <td>0.324028</td>\n",
              "      <td>0.381679</td>\n",
              "      <td>0.537538</td>\n",
              "      <td>0.346991</td>\n",
              "      <td>0.255136</td>\n",
              "      <td>0.244712</td>\n",
              "      <td>...</td>\n",
              "      <td>0.346861</td>\n",
              "      <td>0.361341</td>\n",
              "      <td>0.217042</td>\n",
              "      <td>0.830233</td>\n",
              "      <td>0.559211</td>\n",
              "      <td>0.107143</td>\n",
              "      <td>0.600000</td>\n",
              "      <td>0.119910</td>\n",
              "      <td>0.264561</td>\n",
              "      <td>0.264561</td>\n",
              "    </tr>\n",
              "    <tr>\n",
              "      <th>15795</th>\n",
              "      <td>0.475185</td>\n",
              "      <td>0.290799</td>\n",
              "      <td>0.275503</td>\n",
              "      <td>0.508014</td>\n",
              "      <td>0.456962</td>\n",
              "      <td>0.365633</td>\n",
              "      <td>0.417117</td>\n",
              "      <td>0.499502</td>\n",
              "      <td>0.369804</td>\n",
              "      <td>0.192086</td>\n",
              "      <td>...</td>\n",
              "      <td>0.468262</td>\n",
              "      <td>0.506347</td>\n",
              "      <td>0.379421</td>\n",
              "      <td>0.683721</td>\n",
              "      <td>0.798246</td>\n",
              "      <td>0.071429</td>\n",
              "      <td>0.600000</td>\n",
              "      <td>0.494721</td>\n",
              "      <td>0.586533</td>\n",
              "      <td>0.586533</td>\n",
              "    </tr>\n",
              "  </tbody>\n",
              "</table>\n",
              "<p>13813 rows × 26 columns</p>\n",
              "</div>\n",
              "      <button class=\"colab-df-convert\" onclick=\"convertToInteractive('df-7b5be04b-ee18-4f7b-af9d-7b8ab9feb26f')\"\n",
              "              title=\"Convert this dataframe to an interactive table.\"\n",
              "              style=\"display:none;\">\n",
              "        \n",
              "  <svg xmlns=\"http://www.w3.org/2000/svg\" height=\"24px\"viewBox=\"0 0 24 24\"\n",
              "       width=\"24px\">\n",
              "    <path d=\"M0 0h24v24H0V0z\" fill=\"none\"/>\n",
              "    <path d=\"M18.56 5.44l.94 2.06.94-2.06 2.06-.94-2.06-.94-.94-2.06-.94 2.06-2.06.94zm-11 1L8.5 8.5l.94-2.06 2.06-.94-2.06-.94L8.5 2.5l-.94 2.06-2.06.94zm10 10l.94 2.06.94-2.06 2.06-.94-2.06-.94-.94-2.06-.94 2.06-2.06.94z\"/><path d=\"M17.41 7.96l-1.37-1.37c-.4-.4-.92-.59-1.43-.59-.52 0-1.04.2-1.43.59L10.3 9.45l-7.72 7.72c-.78.78-.78 2.05 0 2.83L4 21.41c.39.39.9.59 1.41.59.51 0 1.02-.2 1.41-.59l7.78-7.78 2.81-2.81c.8-.78.8-2.07 0-2.86zM5.41 20L4 18.59l7.72-7.72 1.47 1.35L5.41 20z\"/>\n",
              "  </svg>\n",
              "      </button>\n",
              "      \n",
              "  <style>\n",
              "    .colab-df-container {\n",
              "      display:flex;\n",
              "      flex-wrap:wrap;\n",
              "      gap: 12px;\n",
              "    }\n",
              "\n",
              "    .colab-df-convert {\n",
              "      background-color: #E8F0FE;\n",
              "      border: none;\n",
              "      border-radius: 50%;\n",
              "      cursor: pointer;\n",
              "      display: none;\n",
              "      fill: #1967D2;\n",
              "      height: 32px;\n",
              "      padding: 0 0 0 0;\n",
              "      width: 32px;\n",
              "    }\n",
              "\n",
              "    .colab-df-convert:hover {\n",
              "      background-color: #E2EBFA;\n",
              "      box-shadow: 0px 1px 2px rgba(60, 64, 67, 0.3), 0px 1px 3px 1px rgba(60, 64, 67, 0.15);\n",
              "      fill: #174EA6;\n",
              "    }\n",
              "\n",
              "    [theme=dark] .colab-df-convert {\n",
              "      background-color: #3B4455;\n",
              "      fill: #D2E3FC;\n",
              "    }\n",
              "\n",
              "    [theme=dark] .colab-df-convert:hover {\n",
              "      background-color: #434B5C;\n",
              "      box-shadow: 0px 1px 3px 1px rgba(0, 0, 0, 0.15);\n",
              "      filter: drop-shadow(0px 1px 2px rgba(0, 0, 0, 0.3));\n",
              "      fill: #FFFFFF;\n",
              "    }\n",
              "  </style>\n",
              "\n",
              "      <script>\n",
              "        const buttonEl =\n",
              "          document.querySelector('#df-7b5be04b-ee18-4f7b-af9d-7b8ab9feb26f button.colab-df-convert');\n",
              "        buttonEl.style.display =\n",
              "          google.colab.kernel.accessAllowed ? 'block' : 'none';\n",
              "\n",
              "        async function convertToInteractive(key) {\n",
              "          const element = document.querySelector('#df-7b5be04b-ee18-4f7b-af9d-7b8ab9feb26f');\n",
              "          const dataTable =\n",
              "            await google.colab.kernel.invokeFunction('convertToInteractive',\n",
              "                                                     [key], {});\n",
              "          if (!dataTable) return;\n",
              "\n",
              "          const docLinkHtml = 'Like what you see? Visit the ' +\n",
              "            '<a target=\"_blank\" href=https://colab.research.google.com/notebooks/data_table.ipynb>data table notebook</a>'\n",
              "            + ' to learn more about interactive tables.';\n",
              "          element.innerHTML = '';\n",
              "          dataTable['output_type'] = 'display_data';\n",
              "          await google.colab.output.renderOutput(dataTable, element);\n",
              "          const docLink = document.createElement('div');\n",
              "          docLink.innerHTML = docLinkHtml;\n",
              "          element.appendChild(docLink);\n",
              "        }\n",
              "      </script>\n",
              "    </div>\n",
              "  </div>\n",
              "  "
            ]
          },
          "metadata": {},
          "execution_count": 56
        }
      ]
    },
    {
      "cell_type": "code",
      "source": [
        "from sklearn.linear_model import LinearRegression\n",
        "model=LinearRegression()\n",
        "model.fit(X_train.values,y_train)\n"
      ],
      "metadata": {
        "colab": {
          "base_uri": "https://localhost:8080/"
        },
        "id": "KWFc7ckCZlzt",
        "outputId": "dce027e6-031b-4a3e-dca2-a0d2ddaecd81"
      },
      "execution_count": 57,
      "outputs": [
        {
          "output_type": "execute_result",
          "data": {
            "text/plain": [
              "LinearRegression()"
            ]
          },
          "metadata": {},
          "execution_count": 57
        }
      ]
    },
    {
      "cell_type": "code",
      "source": [
        "y_pred=model.predict(X_test.values)"
      ],
      "metadata": {
        "id": "ISkWkr2-Z8rt"
      },
      "execution_count": 60,
      "outputs": []
    },
    {
      "cell_type": "code",
      "source": [
        " from sklearn.metrics import mean_absolute_error\n",
        " mean_absolute_error(y_test, y_pred)"
      ],
      "metadata": {
        "colab": {
          "base_uri": "https://localhost:8080/"
        },
        "id": "QS79V9rlZ-xb",
        "outputId": "3b27d5c4-e209-48c1-dfbf-b1d01b3db7d1"
      },
      "execution_count": 62,
      "outputs": [
        {
          "output_type": "execute_result",
          "data": {
            "text/plain": [
              "0.05000832667689451"
            ]
          },
          "metadata": {},
          "execution_count": 62
        }
      ]
    },
    {
      "cell_type": "code",
      "source": [
        "rss=np.sum(np.square(y_pred - y_test))"
      ],
      "metadata": {
        "id": "LZnfRHfSbRVt"
      },
      "execution_count": 63,
      "outputs": []
    },
    {
      "cell_type": "code",
      "source": [
        "rss"
      ],
      "metadata": {
        "colab": {
          "base_uri": "https://localhost:8080/"
        },
        "id": "EyfmYgzBbfoY",
        "outputId": "3c4e832b-8691-4b76-910d-cf62834574aa"
      },
      "execution_count": 64,
      "outputs": [
        {
          "output_type": "execute_result",
          "data": {
            "text/plain": [
              "46.422010380817355"
            ]
          },
          "metadata": {},
          "execution_count": 64
        }
      ]
    },
    {
      "cell_type": "code",
      "source": [
        "from sklearn.metrics import mean_squared_error\n"
      ],
      "metadata": {
        "id": "t5Pzn2m3dRke"
      },
      "execution_count": 65,
      "outputs": []
    },
    {
      "cell_type": "code",
      "source": [
        "mean_squared_error(y_test, y_pred)\n"
      ],
      "metadata": {
        "colab": {
          "base_uri": "https://localhost:8080/"
        },
        "id": "_Qts6v1sdUI0",
        "outputId": "fd3f0118-bcac-40fc-e0ff-81f60a80e086"
      },
      "execution_count": 66,
      "outputs": [
        {
          "output_type": "execute_result",
          "data": {
            "text/plain": [
              "0.007840231444150879"
            ]
          },
          "metadata": {},
          "execution_count": 66
        }
      ]
    },
    {
      "cell_type": "code",
      "source": [
        " from sklearn.metrics import r2_score\n",
        " r2_score(y_test, y_pred)"
      ],
      "metadata": {
        "colab": {
          "base_uri": "https://localhost:8080/"
        },
        "id": "u0Vub9GEdjCv",
        "outputId": "01b73fb2-7d9c-4d8f-8d34-658f517157c4"
      },
      "execution_count": 67,
      "outputs": [
        {
          "output_type": "execute_result",
          "data": {
            "text/plain": [
              "0.15757461868115297"
            ]
          },
          "metadata": {},
          "execution_count": 67
        }
      ]
    }
  ]
}